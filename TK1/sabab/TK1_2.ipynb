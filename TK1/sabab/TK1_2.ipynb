{
 "cells": [
  {
   "cell_type": "code",
   "execution_count": 23,
   "metadata": {},
   "outputs": [],
   "source": [
    "import numpy as np\n",
    "import pandas as pd\n",
    "from numpy.linalg import norm, qr, solve\n",
    "from scipy.linalg import eigh"
   ]
  },
  {
   "cell_type": "code",
   "execution_count": 24,
   "metadata": {},
   "outputs": [],
   "source": [
    "data = pd.read_csv('pokindex_data.csv')\n",
    "X = data.values[:, :-1]  # Features\n",
    "y = data.values[:, -1]   # Response variable"
   ]
  },
  {
   "cell_type": "code",
   "execution_count": 25,
   "metadata": {},
   "outputs": [],
   "source": [
    "def standardize(X):\n",
    "    mu = np.mean(X, axis=0)\n",
    "    sigma = np.std(X, axis=0)\n",
    "    X_std = (X - mu) / sigma\n",
    "    return X_std, mu, sigma"
   ]
  },
  {
   "cell_type": "code",
   "execution_count": 26,
   "metadata": {},
   "outputs": [],
   "source": [
    "def covariance(X):\n",
    "    m = X.shape[0]\n",
    "    Sigma = (X.T @ X) / (m - 1)\n",
    "    return Sigma"
   ]
  },
  {
   "cell_type": "code",
   "execution_count": 27,
   "metadata": {},
   "outputs": [],
   "source": [
    "def householder_qr(A):\n",
    "    m, n = A.shape\n",
    "    Q = np.eye(m)\n",
    "    R = A.copy()\n",
    "    for k in range(n):\n",
    "        x = R[k:m, k]\n",
    "        e1 = np.zeros_like(x)\n",
    "        e1[0] = 1\n",
    "        v_k = np.sign(x[0]) * norm(x) * e1 + x\n",
    "        v_k /= norm(v_k)\n",
    "        R[k:m, :] -= 2 * np.outer(v_k, v_k.T @ R[k:m, :])\n",
    "        Q[k:m, :] -= 2 * np.outer(v_k, v_k.T @ Q[k:m, :])\n",
    "    return Q.T, R"
   ]
  },
  {
   "cell_type": "code",
   "execution_count": 28,
   "metadata": {},
   "outputs": [],
   "source": [
    "def pca_householder(X_std, k):\n",
    "    Sigma = covariance(X_std)\n",
    "    Q, R = householder_qr(Sigma)\n",
    "    eigenvalues = np.diag(R)\n",
    "    idx = np.argsort(-eigenvalues)\n",
    "    eigenvectors = Q[:, idx]\n",
    "    V_k = eigenvectors[:, :k]\n",
    "    Z = X_std @ V_k\n",
    "    return Z, eigenvalues[idx][:k], eigenvectors[:, :k]"
   ]
  },
  {
   "cell_type": "code",
   "execution_count": 29,
   "metadata": {},
   "outputs": [],
   "source": [
    "def linear_regression_normal(Z, y):\n",
    "    Z_aug = np.hstack([np.ones((Z.shape[0], 1)), Z])\n",
    "    theta = solve(Z_aug.T @ Z_aug, Z_aug.T @ y)\n",
    "    return theta"
   ]
  },
  {
   "cell_type": "code",
   "execution_count": 30,
   "metadata": {},
   "outputs": [],
   "source": [
    "# Linear regression using QR Decomposition\n",
    "def linear_regression_qr(Z, y):\n",
    "    Z_aug = np.hstack([np.ones((Z.shape[0], 1)), Z])\n",
    "    Q, R = qr(Z_aug)  # Get the full QR decomposition\n",
    "    # Extract the top R matrix corresponding to the non-zero rows in R (for economic QR)\n",
    "    R = R[:Z_aug.shape[1], :]\n",
    "    Q = Q[:, :Z_aug.shape[1]]\n",
    "    theta = solve(R, Q.T @ y)\n",
    "    return theta\n"
   ]
  },
  {
   "cell_type": "code",
   "execution_count": 31,
   "metadata": {},
   "outputs": [],
   "source": [
    "def compute_residuals(Z, y, theta):\n",
    "    Z_aug = np.hstack([np.ones((Z.shape[0], 1)), Z])\n",
    "    y_pred = Z_aug @ theta\n",
    "    residual = norm(y - y_pred)\n",
    "    return residual\n"
   ]
  },
  {
   "cell_type": "code",
   "execution_count": 32,
   "metadata": {},
   "outputs": [],
   "source": [
    "# Linear regression using QR Decomposition with stored Q\n",
    "def linear_regression_qr_with_Q(Z, y):\n",
    "    Z_aug = np.hstack([np.ones((Z.shape[0], 1)), Z])\n",
    "    Q, R = qr(Z_aug)  # Get the full QR decomposition\n",
    "    # Ensure R is the correct shape by trimming excess rows\n",
    "    R = R[:Z_aug.shape[1], :]\n",
    "    # Ensure Q is trimmed to match R's size for matrix operations\n",
    "    Q = Q[:, :Z_aug.shape[1]]\n",
    "    theta = solve(R, Q.T @ y)\n",
    "    return theta"
   ]
  },
  {
   "cell_type": "code",
   "execution_count": 33,
   "metadata": {},
   "outputs": [],
   "source": [
    "X_std, mu, sigma = standardize(X)\n",
    "Z, eigenvalues, eigenvectors = pca_householder(X_std, 3)\n",
    "theta_normal = linear_regression_normal(Z, y)\n",
    "theta_qr = linear_regression_qr(Z, y)\n",
    "theta_qr_with_Q = linear_regression_qr_with_Q(Z, y)\n",
    "residual_normal = compute_residuals(Z, y, theta_normal)\n",
    "residual_qr = compute_residuals(Z, y, theta_qr)\n",
    "residual_qr_with_Q = compute_residuals(Z, y, theta_qr_with_Q)"
   ]
  },
  {
   "cell_type": "code",
   "execution_count": 34,
   "metadata": {},
   "outputs": [
    {
     "name": "stdout",
     "output_type": "stream",
     "text": [
      "Residual (Normal Equation): 197.55827\n",
      "Residual (QR Decomposition): 197.55827\n",
      "Residual (QR Decomposition with Q): 197.55827\n"
     ]
    }
   ],
   "source": [
    "print(f'Residual (Normal Equation): {residual_normal:.5f}')\n",
    "print(f'Residual (QR Decomposition): {residual_qr:.5f}')\n",
    "print(f'Residual (QR Decomposition with Q): {residual_qr_with_Q:.5f}')"
   ]
  }
 ],
 "metadata": {
  "kernelspec": {
   "display_name": "Python 3",
   "language": "python",
   "name": "python3"
  },
  "language_info": {
   "codemirror_mode": {
    "name": "ipython",
    "version": 3
   },
   "file_extension": ".py",
   "mimetype": "text/x-python",
   "name": "python",
   "nbconvert_exporter": "python",
   "pygments_lexer": "ipython3",
   "version": "3.11.7"
  }
 },
 "nbformat": 4,
 "nbformat_minor": 2
}
